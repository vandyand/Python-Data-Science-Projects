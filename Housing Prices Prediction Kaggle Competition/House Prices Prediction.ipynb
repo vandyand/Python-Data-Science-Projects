{
 "cells": [
  {
   "cell_type": "code",
   "execution_count": 1,
   "metadata": {
    "collapsed": true
   },
   "outputs": [],
   "source": [
    "import pandas as pd\n",
    "import numpy as np\n",
    "import matplotlib.pyplot as plt\n",
    "import math\n",
    "%matplotlib inline\n",
    "pd.options.display.max_rows = 1000\n",
    "pd.options.display.max_columns = 1000\n",
    "pd.options.display.float_format = '{:.0f}'.format"
   ]
  },
  {
   "cell_type": "markdown",
   "metadata": {},
   "source": [
    "# Import Data"
   ]
  },
  {
   "cell_type": "code",
   "execution_count": 2,
   "metadata": {
    "collapsed": true
   },
   "outputs": [],
   "source": [
    "train = pd.read_csv('train.csv')\n",
    "holdout = pd.read_csv('test.csv')"
   ]
  },
  {
   "cell_type": "code",
   "execution_count": 3,
   "metadata": {},
   "outputs": [
    {
     "data": {
      "text/plain": [
       "(2919, 81)"
      ]
     },
     "execution_count": 3,
     "metadata": {},
     "output_type": "execute_result"
    }
   ],
   "source": [
    "houses = pd.concat([train,holdout],ignore_index=True)\n",
    "houses.shape"
   ]
  },
  {
   "cell_type": "markdown",
   "metadata": {},
   "source": [
    "# Clean the Data\n",
    "## Get rid of Missing Values"
   ]
  },
  {
   "cell_type": "code",
   "execution_count": 4,
   "metadata": {
    "collapsed": true
   },
   "outputs": [],
   "source": [
    "# Replace nulls in holdout saleprice with zeros\n",
    "houses.loc[1460:,'SalePrice'] = 0"
   ]
  },
  {
   "cell_type": "code",
   "execution_count": 5,
   "metadata": {
    "collapsed": true
   },
   "outputs": [],
   "source": [
    "# If a column in houses dataframe has less than 200 missing values in it fill in the missing values with the median of \n",
    "# the column.\n",
    "missing_less_than_200 = houses.loc[:,houses.isnull().sum()<200]\n",
    "\n",
    "for col in missing_less_than_200:\n",
    "    houses.loc[houses[col].isnull(),col] = houses[col].value_counts().argmax()"
   ]
  },
  {
   "cell_type": "code",
   "execution_count": 6,
   "metadata": {
    "collapsed": true
   },
   "outputs": [],
   "source": [
    "# If a column in houses is missing more than 200 values, delete the column\n",
    "missing_more_than_200 = houses.loc[:,houses.isnull().sum()>=200]\n",
    "\n",
    "houses.drop(missing_more_than_200.columns,axis=1,inplace=True)"
   ]
  },
  {
   "cell_type": "markdown",
   "metadata": {},
   "source": [
    "## Normalize Continuous Columns and One Hot Encode Categorical Columns"
   ]
  },
  {
   "cell_type": "code",
   "execution_count": 7,
   "metadata": {
    "collapsed": true
   },
   "outputs": [],
   "source": [
    "# Split columns into categorical and continuous types.\n",
    "categorical_cols = list(houses.loc[:,houses.dtypes=='object'].columns) + \\\n",
    "['MSSubClass','OverallQual','OverallCond','YearBuilt','YearRemodAdd','MoSold','YrSold','BsmtFullBath','BsmtHalfBath',\n",
    " 'FullBath','HalfBath','BedroomAbvGr','KitchenAbvGr','TotRmsAbvGrd','Fireplaces','GarageCars']\n",
    "\n",
    "continuous_cols = [x for x in list(houses.columns) if x not in categorical_cols+['Id','SalePrice']]"
   ]
  },
  {
   "cell_type": "code",
   "execution_count": 8,
   "metadata": {
    "collapsed": true
   },
   "outputs": [],
   "source": [
    "# Normalize continuous data and categorize categorical data (one hot encoding)\n",
    "def normalize_continuous(df,cols):\n",
    "    for col in cols:\n",
    "        df.loc[:,col] = (df[col] - df[col].min()) / (df[col].max() - df[col].min())\n",
    "    return df\n",
    "def dummy_categorical(df,cols):\n",
    "    dummies = pd.get_dummies(df[cols],columns=cols)\n",
    "    df = pd.concat([df,dummies],axis=1)\n",
    "    df.drop(cols,axis=1,inplace=True)\n",
    "    return(df)\n",
    "\n",
    "houses = normalize_continuous(houses,continuous_cols)\n",
    "houses = dummy_categorical(houses,categorical_cols)\n"
   ]
  },
  {
   "cell_type": "markdown",
   "metadata": {},
   "source": [
    "# Train and Test"
   ]
  },
  {
   "cell_type": "code",
   "execution_count": 9,
   "metadata": {
    "collapsed": true
   },
   "outputs": [],
   "source": [
    "from sklearn.model_selection import train_test_split\n",
    "from sklearn.ensemble import RandomForestRegressor\n",
    "\n",
    "X = houses.loc[:1459,[x for x in houses.columns if (x != 'SalePrice') and (x != 'Id')]]\n",
    "y = houses.loc[:1459,'SalePrice']\n",
    "X_train, X_test, y_train, y_test = train_test_split(X, y, test_size=0.25)\n",
    "\n",
    "model = RandomForestRegressor()\n",
    "model.fit(X_train,y_train)\n",
    "y_pred = model.predict(X_test)"
   ]
  },
  {
   "cell_type": "code",
   "execution_count": 10,
   "metadata": {
    "collapsed": true
   },
   "outputs": [],
   "source": [
    "def rmsle(predicted, real):\n",
    "    sum=0.0\n",
    "    for x in range(len(predicted)):\n",
    "        p = np.log(predicted[x]+1)\n",
    "        r = np.log(real[x]+1)\n",
    "        sum = sum + (p - r)**2\n",
    "    return (sum/len(predicted))**0.5"
   ]
  },
  {
   "cell_type": "code",
   "execution_count": 11,
   "metadata": {},
   "outputs": [
    {
     "name": "stdout",
     "output_type": "stream",
     "text": [
      "0.163278459214\n"
     ]
    }
   ],
   "source": [
    "error = rmsle(y_pred,y_test.values)\n",
    "print(error)"
   ]
  },
  {
   "cell_type": "markdown",
   "metadata": {},
   "source": [
    "# Generate Baseline Submission with Random Forest Regressor"
   ]
  },
  {
   "cell_type": "code",
   "execution_count": 12,
   "metadata": {
    "collapsed": true
   },
   "outputs": [],
   "source": [
    "model.fit(X,y)\n",
    "X_holdout = houses.loc[1460:,[x for x in houses if (x != 'SalePrice') and (x != 'Id')]]\n",
    "final_predictions = model.predict(X_holdout)\n",
    "submission = pd.DataFrame({'Id':houses.loc[1460:,'Id'],'SalePrice':final_predictions})\n",
    "submission.to_csv('submission.csv',index=False)"
   ]
  },
  {
   "cell_type": "markdown",
   "metadata": {},
   "source": [
    "# Improve with Gridsearch and Recursive Feature Elimination"
   ]
  },
  {
   "cell_type": "code",
   "execution_count": 13,
   "metadata": {
    "collapsed": true
   },
   "outputs": [],
   "source": [
    "from sklearn.model_selection import GridSearchCV\n",
    "from sklearn.neighbors import KNeighborsRegressor\n",
    "from sklearn.svm import SVR\n",
    "from sklearn.ensemble import RandomForestRegressor, GradientBoostingRegressor, AdaBoostRegressor"
   ]
  },
  {
   "cell_type": "code",
   "execution_count": 14,
   "metadata": {},
   "outputs": [
    {
     "name": "stdout",
     "output_type": "stream",
     "text": [
      "0.5\n"
     ]
    }
   ],
   "source": [
    "from sklearn.feature_selection import RFE\n",
    "\n",
    "def select_features(model):\n",
    "    selector = RFE(model,step=10)\n",
    "    selector.fit(X,y)\n",
    "    best_columns = list(X.columns[selector.support_])\n",
    "    return best_columns\n",
    "\n",
    "best_features = select_features(GradientBoostingRegressor())\n",
    "print(len(best_features)/X.shape[1])"
   ]
  },
  {
   "cell_type": "code",
   "execution_count": null,
   "metadata": {},
   "outputs": [],
   "source": []
  },
  {
   "cell_type": "code",
   "execution_count": 15,
   "metadata": {},
   "outputs": [
    {
     "name": "stdout",
     "output_type": "stream",
     "text": [
      "KNeighborsRegressor\n",
      "-------------------\n",
      "Best Score: 0.7983630076135435\n",
      "Best Parameters: {'algorithm': 'ball_tree', 'n_neighbors': 5, 'p': 1, 'weights': 'distance'}\n",
      "\n",
      "SVR\n",
      "---\n",
      "Best Score: -0.006796654218184319\n",
      "Best Parameters: {'C': 1, 'kernel': 'linear'}\n",
      "\n",
      "RandomForestRegressor\n",
      "---------------------\n",
      "Best Score: 0.8434559509528226\n",
      "Best Parameters: {'criterion': 'mse', 'max_depth': 10, 'max_features': 'auto', 'min_samples_leaf': 5, 'min_samples_split': 5, 'n_estimators': 50}\n",
      "\n",
      "GradientBoostingRegressor\n",
      "-------------------------\n",
      "Best Score: 0.88504448779941\n",
      "Best Parameters: {'max_depth': 3, 'n_estimators': 500}\n",
      "\n",
      "AdaBoostRegressor\n",
      "-----------------\n",
      "Best Score: 0.8003601974853036\n",
      "Best Parameters: {'n_estimators': 50}\n",
      "\n"
     ]
    }
   ],
   "source": [
    "# GridSearch\n",
    "import warnings\n",
    "warnings.filterwarnings('ignore')\n",
    "\n",
    "grids = [\n",
    "    {'name':'KNeighborsRegressor',\n",
    "    'estimator':KNeighborsRegressor(),\n",
    "    'hyperparameters':{\n",
    "        'n_neighbors': range(3,12,2),\n",
    "        'weights': ['distance','uniform'],\n",
    "        'algorithm': ['ball_tree','kd_tree','brute'],\n",
    "        'p': [1]}\n",
    "    },\n",
    "    {'name':'SVR',\n",
    "    'estimator':SVR(),\n",
    "    'hyperparameters':{\n",
    "        'C':[0.1,1],\n",
    "        'kernel':['linear','poly','rbf']}\n",
    "    },\n",
    "    {'name':'RandomForestRegressor',\n",
    "    'estimator':RandomForestRegressor(),\n",
    "    'hyperparameters':{\n",
    "        'n_estimators': [50],\n",
    "        'criterion': ['mse'],\n",
    "        'max_depth': [10],\n",
    "        'max_features': ['auto','log2','sqrt'],\n",
    "        'min_samples_leaf': [5],\n",
    "        'min_samples_split': [5]}\n",
    "    },\n",
    "    {'name':'GradientBoostingRegressor',\n",
    "          'estimator':GradientBoostingRegressor(),\n",
    "          'hyperparameters':{\n",
    "             'n_estimators':[20,50,100,500],\n",
    "             'max_depth':[1,3,5,10]\n",
    "             }\n",
    "    },\n",
    "     {'name':'AdaBoostRegressor',\n",
    "      'estimator':AdaBoostRegressor(),\n",
    "      'hyperparameters':{'n_estimators':[25,50,100,200]}\n",
    "     }\n",
    "]\n",
    "\n",
    "X = houses.loc[:1459,[x for x in houses.columns if (x != 'SalePrice') and (x != 'Id')]]\n",
    "y = houses.loc[:1459,'SalePrice']\n",
    "\n",
    "for grid in grids:\n",
    "    print(grid['name'])\n",
    "    print('-'*len(grid['name']))\n",
    "    \n",
    "    models = GridSearchCV(grid['estimator'],param_grid=grid['hyperparameters'],cv=5)\n",
    "    models.fit(X,y)\n",
    "    \n",
    "    grid['best_params'] = models.best_params_\n",
    "    grid['best_score'] = models.best_score_\n",
    "    grid['best_estimator'] = models.best_estimator_\n",
    "    \n",
    "    print(\"Best Score: {}\".format(grid[\"best_score\"]))\n",
    "    print(\"Best Parameters: {}\\n\".format(grid[\"best_params\"]))\n"
   ]
  },
  {
   "cell_type": "code",
   "execution_count": 25,
   "metadata": {},
   "outputs": [
    {
     "name": "stdout",
     "output_type": "stream",
     "text": [
      "error: 0.12773564991858485\n",
      "error: 0.10872278144423453\n",
      "error: 0.13457443161200375\n",
      "error: 0.17342189289587803\n",
      "error: 0.1562274668435016\n",
      "error: 0.11409542115856539\n",
      "error: 0.12788668004755568\n",
      "error: 0.11927416292088763\n",
      "error: 0.11721042282621044\n",
      "error: 0.13854631496539294\n",
      "0.131769522463\n"
     ]
    }
   ],
   "source": [
    "from sklearn.model_selection import KFold\n",
    "\n",
    "X = houses.loc[:1459,[x for x in houses.columns if (x != 'SalePrice') and (x != 'Id')]]\n",
    "y = houses.loc[:1459,'SalePrice']\n",
    "\n",
    "model = grids[3]['best_estimator']\n",
    "\n",
    "kf = KFold(n_splits=10)\n",
    "\n",
    "error_list = []\n",
    "for train_indicies, test_indicies in kf.split(X):\n",
    "    model.fit(X.loc[train_indicies],y.loc[train_indicies])\n",
    "    y_pred = model.predict(X.loc[test_indicies])\n",
    "    error = rmsle(y_pred,y.loc[test_indicies].values)\n",
    "    error_list.append(error)\n",
    "    print('error: {}'.format(error))\n",
    "print(np.mean(error_list))\n"
   ]
  },
  {
   "cell_type": "code",
   "execution_count": 26,
   "metadata": {},
   "outputs": [
    {
     "name": "stdout",
     "output_type": "stream",
     "text": [
      "1\n",
      "2\n",
      "3\n",
      "4\n"
     ]
    }
   ],
   "source": [
    "model.fit(X,y)\n",
    "X_holdout = houses.loc[1460:,[x for x in houses if (x != 'SalePrice') and (x != 'Id')]]\n",
    "final_predictions = model.predict(X_holdout)\n",
    "submission = pd.DataFrame({'Id':houses.loc[1460:,'Id'],'SalePrice':final_predictions})\n",
    "submission.to_csv('submission1.csv',index=False)"
   ]
  },
  {
   "cell_type": "markdown",
   "metadata": {
    "collapsed": true
   },
   "source": [
    "# Improve with Bagging"
   ]
  },
  {
   "cell_type": "code",
   "execution_count": 27,
   "metadata": {},
   "outputs": [
    {
     "name": "stdout",
     "output_type": "stream",
     "text": [
      "error: 0.11963607295629392\n",
      "error: 0.11248151721644267\n",
      "error: 0.1298732987834333\n",
      "error: 0.17680627795079598\n",
      "error: 0.1550774552002972\n",
      "error: 0.11191496955528427\n",
      "error: 0.1314443026997464\n",
      "error: 0.11868269497315996\n",
      "error: 0.14865912192730088\n",
      "error: 0.13815697223537102\n",
      "0.13427326835\n"
     ]
    }
   ],
   "source": [
    "from itertools import product\n",
    "from sklearn.ensemble import BaggingRegressor\n",
    "from sklearn.model_selection import KFold\n",
    "\n",
    "model = BaggingRegressor(grids[3]['best_estimator'],max_samples=0.5, max_features=0.5)\n",
    "\n",
    "kf = KFold(n_splits=10)\n",
    "\n",
    "error_list = []\n",
    "for train_indicies, test_indicies in kf.split(X):\n",
    "    model.fit(X.loc[train_indicies],y.loc[train_indicies])\n",
    "    y_pred = model.predict(X.loc[test_indicies])\n",
    "    error = rmsle(y_pred,y.loc[test_indicies].values)\n",
    "    error_list.append(error)\n",
    "    print('error: {}'.format(error))\n",
    "print(np.mean(error_list))"
   ]
  },
  {
   "cell_type": "code",
   "execution_count": 28,
   "metadata": {},
   "outputs": [],
   "source": [
    "model.fit(X,y)\n",
    "X_holdout = houses.loc[1460:,[x for x in houses if (x != 'SalePrice') and (x != 'Id')]]\n",
    "final_predictions = model.predict(X_holdout)\n",
    "submission = pd.DataFrame({'Id':houses.loc[1460:,'Id'],'SalePrice':final_predictions})\n",
    "submission.to_csv('submission2.csv',index=False)"
   ]
  }
 ],
 "metadata": {
  "kernelspec": {
   "display_name": "Python 3",
   "language": "python",
   "name": "python3"
  }
 },
 "nbformat": 4,
 "nbformat_minor": 2
}
