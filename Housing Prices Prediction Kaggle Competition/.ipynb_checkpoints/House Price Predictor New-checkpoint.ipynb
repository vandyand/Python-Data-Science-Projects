{
 "cells": [
  {
   "cell_type": "code",
   "execution_count": 465,
   "metadata": {
    "collapsed": true
   },
   "outputs": [],
   "source": [
    "import pandas as pd\n",
    "import numpy as np\n",
    "import matplotlib.pyplot as plt\n",
    "import math\n",
    "%matplotlib inline\n",
    "pd.options.display.max_rows = 1000\n",
    "pd.options.display.max_columns = 1000\n",
    "pd.options.display.float_format = '{:.0f}'.format"
   ]
  },
  {
   "cell_type": "markdown",
   "metadata": {},
   "source": [
    "# Import Data"
   ]
  },
  {
   "cell_type": "code",
   "execution_count": 466,
   "metadata": {
    "collapsed": true
   },
   "outputs": [],
   "source": [
    "train = pd.read_csv('train.csv')\n",
    "holdout = pd.read_csv('test.csv')"
   ]
  },
  {
   "cell_type": "code",
   "execution_count": 467,
   "metadata": {},
   "outputs": [
    {
     "data": {
      "text/plain": [
       "(2919, 81)"
      ]
     },
     "execution_count": 467,
     "metadata": {},
     "output_type": "execute_result"
    }
   ],
   "source": [
    "houses = pd.concat([train,holdout],ignore_index=True)\n",
    "houses.shape"
   ]
  },
  {
   "cell_type": "markdown",
   "metadata": {},
   "source": [
    "# Clean the Data\n",
    "## Get rid of Missing Values"
   ]
  },
  {
   "cell_type": "code",
   "execution_count": 468,
   "metadata": {},
   "outputs": [],
   "source": [
    "# Replace nulls in holdout saleprice with zeros\n",
    "houses.loc[1460:,'SalePrice'] = 0"
   ]
  },
  {
   "cell_type": "code",
   "execution_count": 469,
   "metadata": {},
   "outputs": [],
   "source": [
    "# If a column in houses dataframe has less than 200 missing values in it fill in the missing values with the median of \n",
    "# the column.\n",
    "missing_less_than_200 = houses.loc[:,houses.isnull().sum()<200]\n",
    "\n",
    "for col in missing_less_than_200:\n",
    "    houses.loc[houses[col].isnull(),col] = houses[col].value_counts().argmax()"
   ]
  },
  {
   "cell_type": "code",
   "execution_count": 470,
   "metadata": {},
   "outputs": [],
   "source": [
    "# If a column in houses is missing more than 200 values, delete the column\n",
    "missing_more_than_200 = houses.loc[:,houses.isnull().sum()>=200]\n",
    "\n",
    "houses.drop(missing_more_than_200.columns,axis=1,inplace=True)"
   ]
  },
  {
   "cell_type": "markdown",
   "metadata": {},
   "source": [
    "## Normalize Continuous Columns and One Hot Encode Categorical Columns"
   ]
  },
  {
   "cell_type": "code",
   "execution_count": 471,
   "metadata": {},
   "outputs": [],
   "source": [
    "# Split columns into categorical and continuous types.\n",
    "categorical_cols = list(houses.loc[:,houses.dtypes=='object'].columns) + \\\n",
    "['MSSubClass','OverallQual','OverallCond','YearBuilt','YearRemodAdd','MoSold','YrSold','BsmtFullBath','BsmtHalfBath',\n",
    " 'FullBath','HalfBath','BedroomAbvGr','KitchenAbvGr','TotRmsAbvGrd','Fireplaces','GarageCars']\n",
    "\n",
    "continuous_cols = [x for x in list(houses.columns) if x not in categorical_cols+['Id','SalePrice']]"
   ]
  },
  {
   "cell_type": "code",
   "execution_count": 472,
   "metadata": {},
   "outputs": [],
   "source": [
    "# Normalize continuous data and categorize categorical data (one hot encoding)\n",
    "def normalize_continuous(df,cols):\n",
    "    for col in cols:\n",
    "        df.loc[:,col] = (df[col] - df[col].min()) / (df[col].max() - df[col].min())\n",
    "    return df\n",
    "def dummy_categorical(df,cols):\n",
    "    dummies = pd.get_dummies(df[cols],columns=cols)\n",
    "    df = pd.concat([df,dummies],axis=1)\n",
    "    df.drop(cols,axis=1,inplace=True)\n",
    "    return(df)\n",
    "\n",
    "houses = normalize_continuous(houses,continuous_cols)\n",
    "houses = dummy_categorical(houses,categorical_cols)\n"
   ]
  },
  {
   "cell_type": "markdown",
   "metadata": {},
   "source": [
    "# Train and Test"
   ]
  },
  {
   "cell_type": "code",
   "execution_count": 473,
   "metadata": {},
   "outputs": [],
   "source": [
    "from sklearn.model_selection import train_test_split\n",
    "\n",
    "X = houses.loc[:1459,[x for x in houses.columns if (x != 'SalePrice') and (x != 'Id')]]\n",
    "y = houses.loc[:1459,'SalePrice']\n",
    "X_train, X_test, y_train, y_test = train_test_split(X, y, test_size=0.25, random_state=1)\n",
    "\n",
    "\n",
    "from sklearn.ensemble import RandomForestRegressor\n",
    "\n",
    "model = RandomForestRegressor(random_state=1)\n",
    "model.fit(X_train,y_train)\n",
    "y_pred = model.predict(X_test)"
   ]
  },
  {
   "cell_type": "code",
   "execution_count": 474,
   "metadata": {
    "collapsed": true
   },
   "outputs": [],
   "source": [
    "def rmsle(predicted, real):\n",
    "    sum=0.0\n",
    "    for x in range(len(predicted)):\n",
    "        p = np.log(predicted[x]+1)\n",
    "        r = np.log(real[x]+1)\n",
    "        sum = sum + (p - r)**2\n",
    "    return (sum/len(predicted))**0.5"
   ]
  },
  {
   "cell_type": "code",
   "execution_count": 475,
   "metadata": {},
   "outputs": [
    {
     "name": "stdout",
     "output_type": "stream",
     "text": [
      "0.16497476532\n"
     ]
    }
   ],
   "source": [
    "error = rmsle(y_pred,y_test.values)\n",
    "print(error)"
   ]
  },
  {
   "cell_type": "markdown",
   "metadata": {},
   "source": [
    "# Generate Submission"
   ]
  },
  {
   "cell_type": "code",
   "execution_count": 476,
   "metadata": {
    "collapsed": true
   },
   "outputs": [],
   "source": [
    "model.fit(X,y)\n",
    "X_holdout = houses.loc[1460:,[x for x in houses if (x != 'SalePrice') and (x != 'Id')]]\n",
    "final_predictions = model.predict(X_holdout)\n",
    "submission = pd.DataFrame({'Id':houses.loc[1460:,'Id'],'SalePrice':final_predictions})\n",
    "submission.to_csv('submission.csv',index=False)"
   ]
  },
  {
   "cell_type": "markdown",
   "metadata": {},
   "source": [
    "# Improve with Gridsearch"
   ]
  },
  {
   "cell_type": "code",
   "execution_count": 498,
   "metadata": {
    "collapsed": true
   },
   "outputs": [],
   "source": [
    "from sklearn.model_selection import GridSearchCV\n",
    "from sklearn.neighbors import KNeighborsRegressor\n",
    "from sklearn.linear_model import LogisticRegression\n",
    "from sklearn.naive_bayes import GaussianNB\n",
    "from sklearn.svm import LinearSVC, SVC"
   ]
  },
  {
   "cell_type": "code",
   "execution_count": 493,
   "metadata": {},
   "outputs": [
    {
     "name": "stdout",
     "output_type": "stream",
     "text": [
      "LinearSVC\n",
      "---------\n"
     ]
    },
    {
     "name": "stderr",
     "output_type": "stream",
     "text": [
      "C:\\Users\\dell\\Anaconda3\\envs\\python363\\lib\\site-packages\\sklearn\\model_selection\\_split.py:605: Warning: The least populated class in y has only 1 members, which is too few. The minimum number of members in any class cannot be less than n_splits=5.\n",
      "  % (min_groups, self.n_splits)), Warning)\n"
     ]
    },
    {
     "name": "stdout",
     "output_type": "stream",
     "text": [
      "Best Score: 0.015753424657534248\n",
      "Best Parameters: {'C': 0.01, 'loss': 'hinge'}\n",
      "\n"
     ]
    }
   ],
   "source": [
    "# GridSearch\n",
    "grids = [\n",
    "#     {'name':'LogisticRegression',\n",
    "#     'estimator':LogisticRegression(),\n",
    "#     'hyperparameters':{\n",
    "#         'solver':['newton-cg','lbfgs','liblinear'],\n",
    "#         'C':[1,0.1]}\n",
    "#     }#,\n",
    "#     {'name':'KNeighborsRegressor',\n",
    "#     'estimator':KNeighborsRegressor(),\n",
    "#     'hyperparameters':{\n",
    "#         'n_neighbors': range(1,12,2),\n",
    "#         'weights': ['distance','uniform'],\n",
    "#         'algorithm': ['ball_tree','kd_tree','brute'],\n",
    "#         'p': [1]}\n",
    "#     }#,\n",
    "#     {'name':'RandomForestRegressor',\n",
    "#     'estimator':RandomForestRegressor(),\n",
    "#     'hyperparameters':{\n",
    "#         'n_estimators': [50],\n",
    "#         'criterion': ['mse'],\n",
    "#         'max_depth': [10],\n",
    "#         'max_features': ['auto','log2','sqrt'],\n",
    "#         'min_samples_leaf': [5],\n",
    "#         'min_samples_split': [5]}\n",
    "#     }#,\n",
    "    {'name':'SVC',\n",
    "    'estimator':SVC(),\n",
    "    'hyperparameters':{\n",
    "        'C': [1,0.1,0.01],\n",
    "        'loss': ['hinge','squared_hinge']}\n",
    "    }#,\n",
    "#     {'name':'GaussianNB',\n",
    "#     'estimator':GaussianNB(),\n",
    "#     'hyperparameters':{\n",
    "#         }\n",
    "#     }\n",
    "]\n",
    "\n",
    "X = houses.loc[:1459,[x for x in houses.columns if (x != 'SalePrice') and (x != 'Id')]]\n",
    "y = houses.loc[:1459,'SalePrice']\n",
    "\n",
    "for grid in grids:\n",
    "    print(grid['name'])\n",
    "    print('-'*len(grid['name']))\n",
    "    \n",
    "    models = GridSearchCV(grid['estimator'],param_grid=grid['hyperparameters'],cv=5)\n",
    "    models.fit(X,y)\n",
    "    \n",
    "    grid['best_params'] = models.best_params_\n",
    "    grid['best_score'] = models.best_score_\n",
    "    grid['best_estimator'] = models.best_estimator_\n",
    "    \n",
    "    print(\"Best Score: {}\".format(grid[\"best_score\"]))\n",
    "    print(\"Best Parameters: {}\\n\".format(grid[\"best_params\"]))\n"
   ]
  },
  {
   "cell_type": "code",
   "execution_count": 497,
   "metadata": {},
   "outputs": [
    {
     "name": "stdout",
     "output_type": "stream",
     "text": [
      "error: 0.24148654419705518\n",
      "error: 0.27456766948471945\n",
      "error: 0.2218598181704498\n",
      "error: 0.29613643496724323\n",
      "error: 0.279605008654048\n",
      "error: 0.2322699379454781\n",
      "error: 0.29509404668702877\n",
      "error: 0.2469767478238832\n",
      "error: 0.24566464893898796\n",
      "error: 0.24558800523499869\n",
      "0.25792488621\n"
     ]
    }
   ],
   "source": [
    "X = houses.loc[:1459,[x for x in houses.columns if (x != 'SalePrice') and (x != 'Id')]]\n",
    "y = houses.loc[:1459,'SalePrice']\n",
    "\n",
    "from sklearn.model_selection import KFold\n",
    "\n",
    "model = LinearSVC(C=0.01,loss='hinge')\n",
    "# model = KNeighborsRegressor(n_neighbors=5,weights='distance',algorithm='ball_tree',p=1)\n",
    "# model = RandomForestRegressor(criterion='mse',max_depth=10,max_features='auto',min_samples_leaf=5,min_samples_split=5,\n",
    "#                              n_estimators=50)\n",
    "kf = KFold(n_splits=10)\n",
    "\n",
    "error_list = []\n",
    "for train_indicies, test_indicies in kf.split(X):\n",
    "    model.fit(X.loc[train_indicies],y.loc[train_indicies])\n",
    "    y_pred = model.predict(X.loc[test_indicies])\n",
    "    error = rmsle(y_pred,y.loc[test_indicies].values)\n",
    "    error_list.append(error)\n",
    "    print('error: {}'.format(error))\n",
    "print(np.mean(error_list))\n",
    "\n"
   ]
  },
  {
   "cell_type": "markdown",
   "metadata": {},
   "source": [
    "# Generate Improved Submission (Improved via GridSearch)"
   ]
  },
  {
   "cell_type": "code",
   "execution_count": 486,
   "metadata": {
    "collapsed": true
   },
   "outputs": [],
   "source": [
    "model.fit(X,y)\n",
    "X_holdout = houses.loc[1460:,[x for x in houses if (x != 'SalePrice') and (x != 'Id')]]\n",
    "final_predictions = model.predict(X_holdout)\n",
    "submission = pd.DataFrame({'Id':houses.loc[1460:,'Id'],'SalePrice':final_predictions})\n",
    "submission.to_csv('submission.csv',index=False)"
   ]
  },
  {
   "cell_type": "code",
   "execution_count": null,
   "metadata": {
    "collapsed": true
   },
   "outputs": [],
   "source": []
  },
  {
   "cell_type": "code",
   "execution_count": null,
   "metadata": {
    "collapsed": true
   },
   "outputs": [],
   "source": []
  },
  {
   "cell_type": "code",
   "execution_count": null,
   "metadata": {
    "collapsed": true
   },
   "outputs": [],
   "source": []
  },
  {
   "cell_type": "code",
   "execution_count": null,
   "metadata": {
    "collapsed": true
   },
   "outputs": [],
   "source": []
  },
  {
   "cell_type": "code",
   "execution_count": null,
   "metadata": {
    "collapsed": true
   },
   "outputs": [],
   "source": []
  },
  {
   "cell_type": "code",
   "execution_count": null,
   "metadata": {
    "collapsed": true
   },
   "outputs": [],
   "source": []
  },
  {
   "cell_type": "code",
   "execution_count": null,
   "metadata": {
    "collapsed": true
   },
   "outputs": [],
   "source": []
  },
  {
   "cell_type": "code",
   "execution_count": null,
   "metadata": {
    "collapsed": true
   },
   "outputs": [],
   "source": []
  }
 ],
 "metadata": {
  "kernelspec": {
   "display_name": "Python 3",
   "language": "python",
   "name": "python3"
  },
  "language_info": {
   "codemirror_mode": {
    "name": "ipython",
    "version": 3
   },
   "file_extension": ".py",
   "mimetype": "text/x-python",
   "name": "python",
   "nbconvert_exporter": "python",
   "pygments_lexer": "ipython3",
   "version": "3.6.3"
  }
 },
 "nbformat": 4,
 "nbformat_minor": 2
}
