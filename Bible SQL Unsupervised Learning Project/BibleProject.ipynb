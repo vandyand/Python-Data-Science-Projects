{
 "cells": [
  {
   "cell_type": "code",
   "execution_count": 1,
   "metadata": {
    "collapsed": true
   },
   "outputs": [],
   "source": [
    "import pandas as pd\n",
    "import numpy as np\n",
    "import matplotlib.pyplot as plt\n",
    "%matplotlib inline\n",
    "import sqlite3"
   ]
  },
  {
   "cell_type": "code",
   "execution_count": 2,
   "metadata": {
    "collapsed": true
   },
   "outputs": [],
   "source": [
    "conn = sqlite3.connect('bible-sqlite.db')\n",
    "c = conn.cursor()"
   ]
  },
  {
   "cell_type": "code",
   "execution_count": 3,
   "metadata": {},
   "outputs": [
    {
     "data": {
      "text/plain": [
       "[('bible_version_key',),\n",
       " ('cross_reference',),\n",
       " ('key_english',),\n",
       " ('t_asv',),\n",
       " ('t_bbe',),\n",
       " ('t_dby',),\n",
       " ('t_kjv',),\n",
       " ('t_wbt',),\n",
       " ('t_web',),\n",
       " ('t_ylt',)]"
      ]
     },
     "execution_count": 3,
     "metadata": {},
     "output_type": "execute_result"
    }
   ],
   "source": [
    "# Investigate the Data\n",
    "\n",
    "c.execute(\"SELECT name FROM sqlite_master\").fetchall()"
   ]
  },
  {
   "cell_type": "code",
   "execution_count": 4,
   "metadata": {},
   "outputs": [
    {
     "data": {
      "text/plain": [
       "[(0, 'id', 'integer zerofill', 1, None, 0),\n",
       " (1, 'b', 'integer', 1, None, 0),\n",
       " (2, 'c', 'integer', 1, None, 0),\n",
       " (3, 'v', 'integer', 1, None, 0),\n",
       " (4, 't', 'text', 1, None, 0),\n",
       " (5, 'char_length', 'integer', 0, None, 0)]"
      ]
     },
     "execution_count": 4,
     "metadata": {},
     "output_type": "execute_result"
    }
   ],
   "source": [
    "c.execute('PRAGMA table_info(t_asv)').fetchall()"
   ]
  },
  {
   "cell_type": "code",
   "execution_count": 5,
   "metadata": {},
   "outputs": [
    {
     "data": {
      "text/plain": [
       "[(1001001,\n",
       "  1,\n",
       "  1,\n",
       "  1,\n",
       "  'In the beginning God created the heavens and the earth.',\n",
       "  None),\n",
       " (1001002,\n",
       "  1,\n",
       "  1,\n",
       "  2,\n",
       "  'And the earth was waste and void; and darkness was upon the face of the deep: and the Spirit of God moved upon the face of the waters.',\n",
       "  None)]"
      ]
     },
     "execution_count": 5,
     "metadata": {},
     "output_type": "execute_result"
    }
   ],
   "source": [
    "# The id is formatted as book, chapter, verse. So 1001001 is 1-001-001 which is Genesis 1:1,\n",
    "# 40012005 is 40-012-005 which is Matthew 12:5, etc.\n",
    "c.execute('SELECT * FROM t_asv LIMIT 2').fetchall()"
   ]
  },
  {
   "cell_type": "code",
   "execution_count": 6,
   "metadata": {},
   "outputs": [
    {
     "data": {
      "text/plain": [
       "<sqlite3.Cursor at 0x2439bdb2b20>"
      ]
     },
     "execution_count": 6,
     "metadata": {},
     "output_type": "execute_result"
    }
   ],
   "source": [
    "# Create new column of character lengths in t\n",
    "# c.execute('ALTER TABLE t_asv ADD COLUMN char_length integer')\n",
    "c.execute('UPDATE t_asv SET char_length = LENGTH(t)')"
   ]
  },
  {
   "cell_type": "code",
   "execution_count": 7,
   "metadata": {},
   "outputs": [
    {
     "data": {
      "text/plain": [
       "<sqlite3.Cursor at 0x2439bdb2b20>"
      ]
     },
     "execution_count": 7,
     "metadata": {},
     "output_type": "execute_result"
    }
   ],
   "source": [
    "# Create new column of book names\n",
    "c.execute('ALTER TABLE t_asv ADD COLUMN book_name text')\n",
    "c.execute(\"UPDATE t_asv SET book_name = CASE b WHEN 1 THEN 'Genesis' WHEN 2 THEN 'Exodus' WHEN 3 THEN 'Leviticus' WHEN 4 THEN 'Numbers' WHEN 5 THEN 'Deuteronomy' WHEN 6 THEN 'Joshua' WHEN 7 THEN 'Judges' WHEN 8 THEN 'Ruth' WHEN 9 THEN '1 Samuel' WHEN 10 THEN '2 Samuel' WHEN 11 THEN '1 Kings' WHEN 12 THEN '2 Kings' WHEN 13 THEN '1 Chronicles' WHEN 14 THEN '2 Chronicles' WHEN 15 THEN 'Ezra' WHEN 16 THEN 'Nehemiah' WHEN 17 THEN 'Esther' WHEN 18 THEN 'Job' WHEN 19 THEN 'Psalm' WHEN 20 THEN 'Proverbs' WHEN 21 THEN 'Ecclesiastes' WHEN 22 THEN 'Song of Solomon' WHEN 23 THEN 'Isaiah' WHEN 24 THEN 'Jeremiah' WHEN 25 THEN 'Lamentations' WHEN 26 THEN 'Ezekiel' WHEN 27 THEN 'Daniel' WHEN 28 THEN 'Hosea' WHEN 29 THEN 'Joel' WHEN 30 THEN 'Amos' WHEN 31 THEN 'Obadiah' WHEN 32 THEN 'Jonah' WHEN 33 THEN 'Micah' WHEN 34 THEN 'Nahum' WHEN 35 THEN 'Habakkuk' WHEN 36 THEN 'Zephaniah' WHEN 37 THEN 'Haggai' WHEN 38 THEN 'Zechariah' WHEN 39 THEN 'Malachi' WHEN 40 THEN 'Matthew' WHEN 41 THEN 'Mark' WHEN 42 THEN 'Luke' WHEN 43 THEN 'John' WHEN 44 THEN 'Acts' WHEN 45 THEN 'Romans' WHEN 46 THEN '1 Corinthians' WHEN 47 THEN '2 Corinthians' WHEN 48 THEN 'Galatians' WHEN 49 THEN 'Ephesians' WHEN 50 THEN 'Philippians' WHEN 51 THEN 'Colossians' WHEN 52 THEN '1 Thessalonians' WHEN 53 THEN '2 Thessalonians' WHEN 54 THEN '1 Timothy' WHEN 55 THEN '2 Timothy' WHEN 56 THEN 'Titus' WHEN 57 THEN 'Philemon' WHEN 58 THEN 'Hebrews' WHEN 59 THEN 'James' WHEN 60 THEN '1 Peter' WHEN 61 THEN '2 Peter' WHEN 62 THEN '1 John' WHEN 63 THEN '2 John' WHEN 64 THEN '3 John' WHEN 65 THEN 'Jude' WHEN 66 THEN 'Revelation' ELSE 'Other' END\")"
   ]
  },
  {
   "cell_type": "code",
   "execution_count": 8,
   "metadata": {},
   "outputs": [
    {
     "data": {
      "text/plain": [
       "<sqlite3.Cursor at 0x2439bdb2b20>"
      ]
     },
     "execution_count": 8,
     "metadata": {},
     "output_type": "execute_result"
    }
   ],
   "source": [
    "# Create new column of references\n",
    "c.execute('ALTER TABLE t_asv ADD COLUMN reference text')\n",
    "c.execute(\"UPDATE t_asv SET reference=book_name||' '||c||':'||v\")"
   ]
  },
  {
   "cell_type": "code",
   "execution_count": 9,
   "metadata": {},
   "outputs": [
    {
     "name": "stdout",
     "output_type": "stream",
     "text": [
      "Longest verses in ASV Bible:\n"
     ]
    },
    {
     "data": {
      "text/plain": [
       "[(\"Then were the king's scribes called at that time, in the third month Sivan, on the three and twentieth `day' thereof; and it was written according to all that Mordecai commanded unto the Jews, and to the satraps, and the governors and princes of the provinces which are from India unto Ethiopia, a hundred twenty and seven provinces, unto every province according to the writing thereof, and unto every people after their language, and to the Jews according to their writing, and according to their language.\",\n",
       "  'Esther 8:9',\n",
       "  508),\n",
       " (\"And king Ahaz commanded Urijah the priest, saying, Upon the great altar burn the morning burnt-offering, and the evening meal-offering, and the king's burnt-offering, and his meal-offering, with the burnt-offering of all the people of the land, and their meal-offering, and their drink-offerings; and sprinkle upon it all the blood of the burnt-offering, and all the blood of the sacrifice: but the brazen altar shall be for me to inquire by.\",\n",
       "  '2 Kings 16:15',\n",
       "  442)]"
      ]
     },
     "execution_count": 9,
     "metadata": {},
     "output_type": "execute_result"
    }
   ],
   "source": [
    "# Find longest verses\n",
    "print(\"Longest verses in ASV Bible:\")\n",
    "c.execute('SELECT t, reference, char_length FROM t_asv ORDER BY LENGTH(t) DESC LIMIT 2').fetchall()"
   ]
  },
  {
   "cell_type": "code",
   "execution_count": 10,
   "metadata": {},
   "outputs": [
    {
     "name": "stdout",
     "output_type": "stream",
     "text": [
      "Shortest verses in ASV Bible:\n"
     ]
    },
    {
     "data": {
      "text/plain": [
       "[('[]', '3 John 1:15', 2),\n",
       " ('Jesus wept.', 'John 11:35', 11),\n",
       " ('and the second:', 'Luke 20:30', 15),\n",
       " ('Rejoice always;', '1 Thessalonians 5:16', 15),\n",
       " ('Eber, Peleg, Reu,', '1 Chronicles 1:25', 17),\n",
       " ('Adam, Seth, Enosh,', '1 Chronicles 1:1', 18),\n",
       " ('Thou shalt not kill.', 'Exodus 20:13', 20)]"
      ]
     },
     "execution_count": 10,
     "metadata": {},
     "output_type": "execute_result"
    }
   ],
   "source": [
    "# Find shortest verses\n",
    "print(\"Shortest verses in ASV Bible:\")\n",
    "c.execute('SELECT t, reference, char_length FROM t_asv ORDER BY LENGTH(t) LIMIT 7').fetchall()"
   ]
  },
  {
   "cell_type": "code",
   "execution_count": 11,
   "metadata": {},
   "outputs": [
    {
     "name": "stdout",
     "output_type": "stream",
     "text": [
      "3 John from ASV Bible:\n"
     ]
    },
    {
     "data": {
      "text/plain": [
       "[('The elder unto Gaius the beloved, whom I love in truth.',),\n",
       " ('Beloved, I pray that in all things thou mayest prosper and be in health, even as thy soul prospereth.',),\n",
       " ('For I rejoiced greatly, when brethren came and bare witness unto thy truth, even as thou walkest in truth.',),\n",
       " ('Greater joy have I none than this, to hear of my children walking in the truth.',),\n",
       " ('Beloved, thou doest a faithful work in whatsoever thou doest toward them that are brethren and strangers withal;',),\n",
       " ('who bare witness to thy love before the church: whom thou wilt do well to set forward on their journey worthily of God:',),\n",
       " ('because that for the sake of the Name they went forth, taking nothing of the Gentiles.',),\n",
       " ('We therefore ought to welcome such, that we may be fellow-workers for the truth.',),\n",
       " ('I wrote somewhat unto the church: but Diotrephes, who loveth to have the preeminence among them, receiveth us not.',),\n",
       " (\"Therefore, if I come, I will bring to remembrance his works which he doeth, prating against us with wicked words: and not content therewith, neither doth he himself receive the brethren, and them that would he forbiddeth and casteth `them' out of the church.\",),\n",
       " ('Beloved, imitate not that which is evil, but that which is good. He that doeth good is of God: he that doeth evil hath not seen God.',),\n",
       " (\"Demetrius hath the witness of all `men', and of the truth itself: yea, we also bear witness: and thou knowest that our witness is true.\",),\n",
       " (\"I had many things to write unto thee, but I am unwilling to write `them' to thee with ink and pen:\",),\n",
       " (\"but I hope shortly to see thee, and we shall speak face to face. Peace `be' unto thee. The friends salute thee. Salute the friends by name.\",),\n",
       " ('[]',)]"
      ]
     },
     "execution_count": 11,
     "metadata": {},
     "output_type": "execute_result"
    }
   ],
   "source": [
    "# Investigate why there is an empty verse:\n",
    "print(\"3 John from ASV Bible:\")\n",
    "c.execute(\"SELECT t FROM t_asv WHERE book_name='3 John'\").fetchall()"
   ]
  },
  {
   "cell_type": "code",
   "execution_count": 12,
   "metadata": {},
   "outputs": [
    {
     "name": "stdout",
     "output_type": "stream",
     "text": [
      "3 John 1:15 from different versions:\n",
      "t_asv [('[]',)]\n",
      "t_bbe [('May you have peace. Your friends here send you their love. Give my love to our friends by name.',)]\n",
      "t_dby []\n",
      "t_kjv [('[]',)]\n",
      "t_wbt []\n",
      "t_web []\n",
      "t_ylt [('[]',)]\n"
     ]
    }
   ],
   "source": [
    "versions = ['t_asv','t_bbe','t_dby','t_kjv','t_wbt','t_web','t_ylt']\n",
    "print(\"3 John 1:15 from different versions:\")\n",
    "for version in versions:\n",
    "    print(version,c.execute(\"SELECT t FROM {} WHERE id=64001015\".format(version)).fetchall())"
   ]
  },
  {
   "cell_type": "code",
   "execution_count": 13,
   "metadata": {},
   "outputs": [
    {
     "name": "stdout",
     "output_type": "stream",
     "text": [
      "versions and their missing verses:\n",
      "t_asv [('[]', 64001015)]\n",
      "t_bbe [('[]', 23064012), ('[]', 27010021), ('[]', 40017021), ('[]', 40018011), ('[]', 40023014), ('[]', 41007016), ('[]', 41009044), ('[]', 41009046), ('[]', 41011026), ('[]', 41015028), ('[]', 42017036), ('[]', 42023017), ('[]', 43005004), ('[]', 44008037), ('[]', 44015034), ('[]', 44019041), ('[]', 44024007), ('[]', 44028029), ('[]', 45016024)]\n",
      "t_dby []\n",
      "t_kjv [('[]', 64001015)]\n",
      "t_wbt []\n",
      "t_web []\n",
      "t_ylt [('[]', 64001015)]\n"
     ]
    }
   ],
   "source": [
    "# It looks as though one version splits verse 14 into two verses while the others don't.\n",
    "# Search for other empty verses in all versions\n",
    "print(\"versions and their missing verses:\")\n",
    "for version in versions:\n",
    "    print(version,c.execute(\"SELECT t,id FROM {} WHERE t='[]'\".format(version)).fetchall())"
   ]
  },
  {
   "cell_type": "code",
   "execution_count": null,
   "metadata": {
    "collapsed": true
   },
   "outputs": [],
   "source": [
    "# It's interesting that the Bible in Basic English (bbe) version has significantly more empty verses than the other\n",
    "# versions. This has to do with translation styles which I won't get into here."
   ]
  },
  {
   "cell_type": "code",
   "execution_count": null,
   "metadata": {
    "collapsed": true
   },
   "outputs": [],
   "source": []
  },
  {
   "cell_type": "code",
   "execution_count": null,
   "metadata": {
    "collapsed": true
   },
   "outputs": [],
   "source": []
  },
  {
   "cell_type": "code",
   "execution_count": null,
   "metadata": {
    "collapsed": true
   },
   "outputs": [],
   "source": [
    "# Create new list of words and filtered words in pandas dataframe\n",
    "import string\n",
    "bible = pd.read_sql_query('SELECT * FROM t_asv',conn)\n",
    "trans_table = str.maketrans({key: None for key in string.punctuation})\n",
    "bible['words'] = [[word.translate(trans_table).lower() for word in bible.loc[x,'t'].split()] \\\n",
    "                  for x in range(bible.shape[0])]\n",
    "\n",
    "# Find stems and filter out stop-words using natural language toolkit\n",
    "from nltk.corpus import stopwords\n",
    "from nltk.stem.snowball import SnowballStemmer\n",
    "stemmer = SnowballStemmer(\"english\")\n",
    "bible['filtered_words'] = pd.Series([[stemmer.stem(word) for word in bible.loc[i,'words'] if word not in stopwords.words('english')] for i in range(bible.shape[0])])"
   ]
  },
  {
   "cell_type": "code",
   "execution_count": null,
   "metadata": {},
   "outputs": [],
   "source": [
    "# Find most common 3-word phrases in ASV Bible\n",
    "list_of_words = []\n",
    "for x in bible['words']:\n",
    "    list_of_words += x\n",
    "\n",
    "# Create all 3-word combinations\n",
    "n = 3\n",
    "list_of_phrases = []\n",
    "for i in range(len(list_of_words)):\n",
    "    phrase = ' '.join(list_of_words[i:i+n])\n",
    "    list_of_phrases.append(phrase)\n",
    "\n",
    "# Find most common\n",
    "import operator\n",
    "phrases_dict = {}\n",
    "for i in list_of_phrases:\n",
    "    if i not in phrases_dict:\n",
    "        phrases_dict[i] = 1\n",
    "    else:\n",
    "        phrases_dict[i] += 1\n",
    "sorted_phrases = sorted(phrases_dict.items(), key=operator.itemgetter(1), reverse=True)\n",
    "print(\"The most common 3-word phrases in the ASV Bible:\")\n",
    "[print(sorted_phrases[x]) for x in range(5)]"
   ]
  },
  {
   "cell_type": "code",
   "execution_count": null,
   "metadata": {},
   "outputs": [],
   "source": [
    "# Most common n-word phrases in ASV Bible\n",
    "n = 6\n",
    "list_of_phrases = []\n",
    "for i in range(len(list_of_words)):\n",
    "    phrase = ' '.join(list_of_words[i:i+n])\n",
    "    list_of_phrases.append(phrase)\n",
    "phrases_dict = {}\n",
    "for i in list_of_phrases:\n",
    "    if i not in phrases_dict:\n",
    "        phrases_dict[i] = 1\n",
    "    else:\n",
    "        phrases_dict[i] += 1\n",
    "sorted_phrases = sorted(phrases_dict.items(), key=operator.itemgetter(1), reverse=True)\n",
    "\n",
    "print(\"The most common {}-word phrases in the ASV Bible:\".format(n))\n",
    "[print(sorted_phrases[x]) for x in range(5)]"
   ]
  },
  {
   "cell_type": "code",
   "execution_count": null,
   "metadata": {},
   "outputs": [],
   "source": [
    "# Find most common n-word phrases in the New Testament of the ASV Bible\n",
    "list_of_words = []\n",
    "for x in bible[bible.id>=40001001]['words']:\n",
    "    list_of_words += x\n",
    "\n",
    "n = 6\n",
    "list_of_phrases = []\n",
    "for i in range(len(list_of_words)):\n",
    "    phrase = ' '.join(list_of_words[i:i+n])\n",
    "    list_of_phrases.append(phrase)\n",
    "phrases_dict = {}\n",
    "for i in list_of_phrases:\n",
    "    if i not in phrases_dict:\n",
    "        phrases_dict[i] = 1\n",
    "    else:\n",
    "        phrases_dict[i] += 1\n",
    "sorted_phrases = sorted(phrases_dict.items(), key=operator.itemgetter(1), reverse=True)\n",
    "print(\"The most common {}-word phrases in the New Testament of the ASV Bible:\".format(n))\n",
    "[print(sorted_phrases[x]) for x in range(5)]"
   ]
  },
  {
   "cell_type": "code",
   "execution_count": null,
   "metadata": {},
   "outputs": [],
   "source": [
    "# Find verses that contain a search word\n",
    "\n",
    "search_word = 'Sluggard'\n",
    "trans_table = str.maketrans({key: None for key in string.punctuation})\n",
    "filtered_search_word = stemmer.stem(search_word).translate(trans_table).lower()\n",
    "\n",
    "found = []\n",
    "for i in range(len(bible)):\n",
    "    found.append(filtered_search_word in bible.loc[i,'filtered_words'])\n",
    "print(\"Number of verses found: {}\".format(bible[found].shape[0]))\n",
    "bible[found][['reference','t']]"
   ]
  },
  {
   "cell_type": "code",
   "execution_count": null,
   "metadata": {
    "collapsed": true
   },
   "outputs": [],
   "source": []
  },
  {
   "cell_type": "code",
   "execution_count": null,
   "metadata": {
    "collapsed": true
   },
   "outputs": [],
   "source": []
  },
  {
   "cell_type": "code",
   "execution_count": null,
   "metadata": {
    "collapsed": true
   },
   "outputs": [],
   "source": [
    "# Create sparse matrix for unsupervised learning\n",
    "def create_sparse_matrix(series):\n",
    "    sm_cols = set(x for val in series for x in val)\n",
    "    sm = pd.DataFrame(np.zeros((len(series),len(sm_cols))),columns=sm_cols)\n",
    "    for i,val in enumerate(series):\n",
    "        for x in val:\n",
    "            sm.loc[i,x] += 1\n",
    "    sm.drop(sm.loc[:,sm.sum()<=1].columns,axis=1,inplace=True)\n",
    "    return sm"
   ]
  },
  {
   "cell_type": "code",
   "execution_count": null,
   "metadata": {
    "collapsed": true
   },
   "outputs": [],
   "source": [
    "# Create smaller dataframes for unsupervised learning\n",
    "romans = bible[bible.book_name=='Romans']\n",
    "new_testament = bible[bible.b>=40]"
   ]
  },
  {
   "cell_type": "code",
   "execution_count": null,
   "metadata": {},
   "outputs": [],
   "source": [
    "# Initiate unsupervised learning using KMeans clustering\n",
    "import warnings\n",
    "warnings.filterwarnings('ignore')\n",
    "\n",
    "from sklearn.cluster import KMeans\n",
    "km = KMeans(n_clusters=20)\n",
    "\n",
    "km.fit(create_sparse_matrix(romans['filtered_words']))\n",
    "romans['group'] = km.labels_.astype(np.int)\n",
    "romans['group'].value_counts()"
   ]
  },
  {
   "cell_type": "code",
   "execution_count": null,
   "metadata": {},
   "outputs": [],
   "source": [
    "km.fit(create_sparse_matrix(new_testament['filtered_words']))\n",
    "new_testament['group'] = km.labels_.astype(np.int)\n",
    "new_testament['group'].value_counts()"
   ]
  },
  {
   "cell_type": "code",
   "execution_count": null,
   "metadata": {},
   "outputs": [],
   "source": [
    "# Group 0 is the 'seven' group\n",
    "# Group 17 is the 'son' group\n",
    "# Group 11 is the 'olive' group\n",
    "# Group 14 is the 'thing' group\n",
    "# Group 9 is the 'world' group\n",
    "# etc.\n",
    "new_testament[new_testament.group==0]"
   ]
  },
  {
   "cell_type": "code",
   "execution_count": null,
   "metadata": {
    "collapsed": true
   },
   "outputs": [],
   "source": []
  }
 ],
 "metadata": {
  "kernelspec": {
   "display_name": "Python 3",
   "language": "python",
   "name": "python3"
  },
  "language_info": {
   "codemirror_mode": {
    "name": "ipython",
    "version": 3
   },
   "file_extension": ".py",
   "mimetype": "text/x-python",
   "name": "python",
   "nbconvert_exporter": "python",
   "pygments_lexer": "ipython3",
   "version": "3.6.3"
  }
 },
 "nbformat": 4,
 "nbformat_minor": 2
}
